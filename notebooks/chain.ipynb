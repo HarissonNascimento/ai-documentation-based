{
 "cells": [
  {
   "cell_type": "markdown",
   "metadata": {},
   "source": [
    "Prompts que darão instruções para o comportamento da IA"
   ]
  },
  {
   "cell_type": "code",
   "execution_count": null,
   "metadata": {},
   "outputs": [],
   "source": [
    "RESPONSE_TEMPLATE = \"\"\"\\\n",
    "You are an expert programmer and problem-solver, tasked with answering any question \\\n",
    "about StackSpot AI.\n",
    "\n",
    "Generate a comprehensive and informative answer of 80 words or less for the \\\n",
    "given question based solely on the provided search results (URL and content). You must \\\n",
    "only use information from the provided search results. Use an unbiased and \\\n",
    "journalistic tone. Combine search results together into a coherent answer. Do not \\\n",
    "repeat text. Cite search results using [${{number}}] notation. Only cite the most \\\n",
    "relevant results that answer the question accurately. Place these citations at the end \\\n",
    "of the sentence or paragraph that reference them - do not put them all at the end. If \\\n",
    "different results refer to different entities within the same name, write separate \\\n",
    "answers for each entity.\n",
    "\n",
    "You should use bullet points in your answer for readability. Put citations where they apply\n",
    "rather than putting them all at the end.\n",
    "\n",
    "If there is nothing in the context relevant to the question at hand, just say \"Hmm, \\\n",
    "I'm not sure.\" Don't try to make up an answer.\n",
    "\n",
    "Anything between the following `context`  html blocks is retrieved from a knowledge \\\n",
    "bank, not part of the conversation with the user. \n",
    "\n",
    "<context>\n",
    "    {context} \n",
    "<context/>\n",
    "\n",
    "REMEMBER: If there is no relevant information within the context, just say \"Hmm, I'm \\\n",
    "not sure.\" Don't try to make up an answer. Anything between the preceding 'context' \\\n",
    "html blocks is retrieved from a knowledge bank, not part of the conversation with the \\\n",
    "user.\\\n",
    "\"\"\"\n",
    "\n",
    "REPHRASE_TEMPLATE = \"\"\"\\\n",
    "Given the following conversation and a follow up question, rephrase the follow up \\\n",
    "question to be a standalone question.\n",
    "\n",
    "Chat History:\n",
    "{chat_history}\n",
    "Follow Up Input: {question}\n",
    "Standalone Question:\"\"\""
   ]
  },
  {
   "cell_type": "markdown",
   "metadata": {},
   "source": [
    "Classe modelo que será utilizada nas chamadas para IA"
   ]
  },
  {
   "cell_type": "code",
   "execution_count": null,
   "metadata": {},
   "outputs": [],
   "source": [
    "from typing import Dict, List, Optional\n",
    "from langchain_core.pydantic_v1 import BaseModel\n",
    "\n",
    "class ChatRequest(BaseModel):\n",
    "    question: str\n",
    "    chat_history: Optional[List[Dict[str, str]]]"
   ]
  },
  {
   "cell_type": "markdown",
   "metadata": {},
   "source": [
    "Método responsável pela criação do recuperador do vectorstore"
   ]
  },
  {
   "cell_type": "code",
   "execution_count": null,
   "metadata": {},
   "outputs": [],
   "source": [
    "import weaviate\n",
    "\n",
    "from langchain_community.vectorstores import Weaviate\n",
    "from langchain_core.retrievers import BaseRetriever\n",
    "from langchain_openai import OpenAIEmbeddings\n",
    "from langchain_core.embeddings import Embeddings\n",
    "\n",
    "WEAVIATE_DOCS_INDEX_NAME = 'My_Docs_Index_Name'\n",
    "WEAVIATE_URL = 'http://localhost:8080'\n",
    "\n",
    "def get_embeddings_model() -> Embeddings:\n",
    "    return OpenAIEmbeddings(model=\"text-embedding-3-small\", chunk_size=200)\n",
    "\n",
    "def get_retriever() -> BaseRetriever:\n",
    "    client = weaviate.Client(\n",
    "        url=WEAVIATE_URL\n",
    "    )\n",
    "    weaviate_client =  Weaviate(\n",
    "        client=client,\n",
    "        index_name=WEAVIATE_DOCS_INDEX_NAME,\n",
    "        text_key=\"text\",\n",
    "        embedding=get_embeddings_model(),\n",
    "        by_text=False,\n",
    "        attributes=[\"source\", \"title\"],\n",
    "    )\n",
    "    return weaviate_client.as_retriever(search_kwargs=dict(k=6))"
   ]
  },
  {
   "cell_type": "markdown",
   "metadata": {},
   "source": [
    "Método responsável pela criação da chain com a LLM e o retriever usando o prompt REPHRASE_TEMPLATE que criamos"
   ]
  },
  {
   "cell_type": "code",
   "execution_count": null,
   "metadata": {},
   "outputs": [],
   "source": [
    "from operator import itemgetter\n",
    "\n",
    "from langchain_core.output_parsers import StrOutputParser\n",
    "from langchain_core.language_models import BaseLanguageModel\n",
    "from langchain_core.runnables import (\n",
    "    Runnable,\n",
    "    RunnableBranch,\n",
    "    RunnableLambda\n",
    ")\n",
    "from langchain_core.prompts import PromptTemplate\n",
    "\n",
    "def create_retriever_chain(\n",
    "    llm: BaseLanguageModel, retriever: BaseRetriever\n",
    ") -> Runnable:\n",
    "    CONDENSE_QUESTION_PROMPT = PromptTemplate.from_template(REPHRASE_TEMPLATE)\n",
    "    condense_question_chain = (\n",
    "        CONDENSE_QUESTION_PROMPT | llm | StrOutputParser()\n",
    "    ).with_config(\n",
    "        run_name=\"CondenseQuestion\",\n",
    "    )\n",
    "    conversation_chain = condense_question_chain | retriever\n",
    "    return RunnableBranch(\n",
    "        (\n",
    "            RunnableLambda(lambda x: bool(x.get(\"chat_history\"))).with_config(\n",
    "                run_name=\"HasChatHistoryCheck\"\n",
    "            ),\n",
    "            conversation_chain.with_config(run_name=\"RetrievalChainWithHistory\"),\n",
    "        ),\n",
    "        (\n",
    "            RunnableLambda(itemgetter(\"question\")).with_config(\n",
    "                run_name=\"Itemgetter:question\"\n",
    "            )\n",
    "            | retriever\n",
    "        ).with_config(run_name=\"RetrievalChainWithNoHistory\"),\n",
    "    ).with_config(run_name=\"RouteDependingOnChatHistory\")\n"
   ]
  },
  {
   "cell_type": "markdown",
   "metadata": {},
   "source": [
    "Método responsável pela formatação dos resultados encontrados no vectorstore para o formato esperado pela IA"
   ]
  },
  {
   "cell_type": "code",
   "execution_count": null,
   "metadata": {},
   "outputs": [],
   "source": [
    "from typing import Sequence\n",
    "\n",
    "from langchain_core.documents import Document\n",
    "\n",
    "def format_docs(docs: Sequence[Document]) -> str:\n",
    "    formatted_docs = []\n",
    "    for i, doc in enumerate(docs):\n",
    "        doc_string = f\"<doc id='{i}'>{doc.page_content}</doc>\"\n",
    "        formatted_docs.append(doc_string)\n",
    "    return  \"\\n\".join(formatted_docs)"
   ]
  },
  {
   "cell_type": "markdown",
   "metadata": {},
   "source": [
    "Método responsável por montar o histórico da conversa no modelo esperado pela IA"
   ]
  },
  {
   "cell_type": "code",
   "execution_count": null,
   "metadata": {},
   "outputs": [],
   "source": [
    "from langchain_core.messages import AIMessage, HumanMessage\n",
    "\n",
    "def serialize_history(request: ChatRequest):\n",
    "    chat_history = request[\"chat_history\"] or []\n",
    "    converted_chat_history = []\n",
    "    for message in chat_history:\n",
    "        if message.get(\"human\") is not None:\n",
    "            converted_chat_history.append(HumanMessage(content=message[\"human\"]))\n",
    "        if message.get(\"ai\") is not None:\n",
    "            converted_chat_history.append(AIMessage(content=message[\"ai\"]))\n",
    "    return converted_chat_history"
   ]
  },
  {
   "cell_type": "markdown",
   "metadata": {},
   "source": [
    "Método responsável pela criação da chain que irá orquestrar a busca no vectorstore, definir os contextos, separar o histórico e normalizar a respota da IA"
   ]
  },
  {
   "cell_type": "code",
   "execution_count": null,
   "metadata": {},
   "outputs": [],
   "source": [
    "from langchain_core.prompts import (\n",
    "    ChatPromptTemplate,\n",
    "    MessagesPlaceholder,\n",
    ")\n",
    "from langchain_core.runnables import RunnableMap\n",
    "\n",
    "def create_chain(\n",
    "    llm: BaseLanguageModel,\n",
    "    retriever: BaseRetriever,\n",
    ") -> Runnable:\n",
    "    retriever_chain = create_retriever_chain(\n",
    "        llm,\n",
    "        retriever,\n",
    "    ).with_config(run_name=\"FindDocs\")\n",
    "    _context = RunnableMap(\n",
    "        {\n",
    "            \"context\": retriever_chain | format_docs,\n",
    "            \"question\": itemgetter(\"question\"),\n",
    "            \"chat_history\": itemgetter(\"chat_history\"),\n",
    "        }\n",
    "    ).with_config(run_name=\"RetrieveDocs\")\n",
    "    prompt = ChatPromptTemplate.from_messages(\n",
    "        [\n",
    "            (\"system\", RESPONSE_TEMPLATE),\n",
    "            MessagesPlaceholder(variable_name=\"chat_history\"),\n",
    "            (\"human\", \"{question}\"),\n",
    "        ]\n",
    "    )\n",
    "\n",
    "    response_synthesizer = (prompt | llm | StrOutputParser()).with_config(\n",
    "        run_name=\"GenerateResponse\",\n",
    "    )\n",
    "    return (\n",
    "        {\n",
    "            \"question\": RunnableLambda(itemgetter(\"question\")).with_config(\n",
    "                run_name=\"Itemgetter:question\"\n",
    "            ),\n",
    "            \"chat_history\": RunnableLambda(serialize_history).with_config(\n",
    "                run_name=\"SerializeHistory\"\n",
    "            ),\n",
    "        }\n",
    "        | _context\n",
    "        | response_synthesizer\n",
    "    )"
   ]
  },
  {
   "cell_type": "markdown",
   "metadata": {},
   "source": [
    "Criação do array que armazenará o input do histórico do chat, criação da LLM e chamada dos métodos get_retriever e create_chain"
   ]
  },
  {
   "cell_type": "code",
   "execution_count": null,
   "metadata": {},
   "outputs": [],
   "source": [
    "from langchain_openai import ChatOpenAI\n",
    "\n",
    "chat_history = []\n",
    "\n",
    "llm = ChatOpenAI(\n",
    "    model=\"gpt-3.5-turbo-1106\",\n",
    "    streaming=True,\n",
    "    temperature=0,\n",
    "    verbose=True\n",
    ")\n",
    "\n",
    "retriever = get_retriever()\n",
    "answer_chain = create_chain(\n",
    "    llm,\n",
    "    retriever,\n",
    ")"
   ]
  },
  {
   "cell_type": "markdown",
   "metadata": {},
   "source": [
    "Método responsável por fazer as chamadas para IA passando as perguntas do usuário e guardar o input de histórico do chat"
   ]
  },
  {
   "cell_type": "code",
   "execution_count": null,
   "metadata": {},
   "outputs": [],
   "source": [
    "def call_ai(input: str):\n",
    "    response = answer_chain.invoke({'question': input, 'chat_history': chat_history})\n",
    "    chat_history.append({'human': input, 'ai': response})\n",
    "    return response"
   ]
  },
  {
   "cell_type": "code",
   "execution_count": null,
   "metadata": {},
   "outputs": [],
   "source": [
    "call_ai(\"O que é stackspot ia?\")"
   ]
  }
 ],
 "metadata": {
  "kernelspec": {
   "display_name": ".venv",
   "language": "python",
   "name": "python3"
  },
  "language_info": {
   "codemirror_mode": {
    "name": "ipython",
    "version": 3
   },
   "file_extension": ".py",
   "mimetype": "text/x-python",
   "name": "python",
   "nbconvert_exporter": "python",
   "pygments_lexer": "ipython3",
   "version": "3.11.5"
  }
 },
 "nbformat": 4,
 "nbformat_minor": 2
}
